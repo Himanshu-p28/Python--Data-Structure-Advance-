{
  "nbformat": 4,
  "nbformat_minor": 0,
  "metadata": {
    "colab": {
      "provenance": []
    },
    "kernelspec": {
      "name": "python3",
      "display_name": "Python 3"
    },
    "language_info": {
      "name": "python"
    }
  },
  "cells": [
    {
      "cell_type": "code",
      "execution_count": null,
      "metadata": {
        "colab": {
          "base_uri": "https://localhost:8080/",
          "height": 53
        },
        "id": "ZgZWY3feU8iM",
        "outputId": "27e110a4-54dc-4c90-d45c-070194fe80a1"
      },
      "outputs": [
        {
          "output_type": "stream",
          "name": "stdout",
          "text": [
            "Reverse : olleH\n"
          ]
        },
        {
          "output_type": "execute_result",
          "data": {
            "text/plain": [
              "'LOGIC 2\\n\\nprint(n[::-1])\\n\\n'"
            ],
            "application/vnd.google.colaboratory.intrinsic+json": {
              "type": "string"
            }
          },
          "metadata": {},
          "execution_count": 4
        }
      ],
      "source": [
        "#1.Write a code to reverse a string\n",
        "\n",
        "n=input(\"Enter string: \")\n",
        "rev=\"\"\n",
        "i=1\n",
        "\n",
        "while i<=len(n):\n",
        "  rev=rev+n[-i]\n",
        "  i+=1\n",
        "print(\"Reverse :\",rev)\n",
        "\n",
        "\"\"\"LOGIC 2\n",
        "\n",
        "print(n[::-1])\n",
        "\n",
        "\"\"\""
      ]
    },
    {
      "cell_type": "code",
      "source": [
        "#2.Write a code to count the number of vowels in a string\n",
        "\n",
        "string=input()\n",
        "\n",
        "a=string.count(\"a\")\n",
        "e=string.count(\"e\")\n",
        "i=string.count(\"i\")\n",
        "o=string.count(\"o\")\n",
        "u=string.count(\"u\")\n",
        "\n",
        "print(\"Total vowels:\",a+e+i+o+u)\n",
        "\n"
      ],
      "metadata": {
        "colab": {
          "base_uri": "https://localhost:8080/"
        },
        "id": "Bj70f2PKXdll",
        "outputId": "cf7d8a3c-b7ee-4056-e519-91366a27b0ae"
      },
      "execution_count": null,
      "outputs": [
        {
          "output_type": "stream",
          "name": "stdout",
          "text": [
            "hello\n",
            "Total vowels: 2\n"
          ]
        }
      ]
    },
    {
      "cell_type": "code",
      "source": [
        "#3.Write a code to check if a given string is a palindrome or not\n",
        "\n",
        "\n",
        "\"RETURNS TRUE IF PALIDROME, ELSE WILL RETURN FALSE\"\n",
        "string=input()\n",
        "\n",
        "ulta_pulta=string[::-1]\n",
        "\n",
        "if ulta_pulta==string:\n",
        "  print(\"PALIDROME !\")\n",
        "else:\n",
        "  print(\"Not a Palidrome\")"
      ],
      "metadata": {
        "colab": {
          "base_uri": "https://localhost:8080/"
        },
        "id": "CyHGnsj3Y4Cm",
        "outputId": "2cc6a277-f0bc-4972-e832-f8f42d492c3a"
      },
      "execution_count": null,
      "outputs": [
        {
          "output_type": "stream",
          "name": "stdout",
          "text": [
            "asasa\n",
            "PALIDROME !\n"
          ]
        }
      ]
    },
    {
      "cell_type": "code",
      "source": [
        "#4.Write a code to check if two given strings are anagrams of each other\n",
        "\"\"\"\"two string have same characters in different orders\"\"\"\n",
        "\n",
        "x=input(\"string1=\")\n",
        "y=input(\"string2=\")\n",
        "\n",
        "def check_lengths(a,b):           # Checks lengths, if lengths not equal, no need to check further\n",
        "  if len(a)==len(b):\n",
        "    return True\n",
        "  else:\n",
        "    print(\"Lengths not same so cannot be anagrams\")\n",
        "    return False\n",
        "\n",
        "\n",
        "def char_sorting(p,q):            # sorts the string\n",
        "  if sorted(p)==sorted(q):\n",
        "    return True\n",
        "  else:\n",
        "    return False\n",
        "\n",
        "if check_lengths(x,y)==True:\n",
        "  print(char_sorting(x,y))\n",
        "else: print(False)"
      ],
      "metadata": {
        "colab": {
          "base_uri": "https://localhost:8080/"
        },
        "id": "UtsLAp0sZ4D-",
        "outputId": "450970ca-7781-45df-b75e-039b542a5951"
      },
      "execution_count": null,
      "outputs": [
        {
          "output_type": "stream",
          "name": "stdout",
          "text": [
            "string1=anagram\n",
            "string2=gramana\n",
            "True\n"
          ]
        }
      ]
    },
    {
      "cell_type": "code",
      "source": [
        "#5. Write a code to find all occurrences of a given substring within another string\n",
        "\n",
        "x=input(\"Enter the string:\")\n",
        "y=input(\"Enter sub string:\")\n",
        "\n",
        "print(f\"{y} occured {x.count(y)} times\")\n"
      ],
      "metadata": {
        "colab": {
          "base_uri": "https://localhost:8080/"
        },
        "id": "Uw62g5OXhfRf",
        "outputId": "af39bef9-d87a-409a-c848-1012c3b1f503"
      },
      "execution_count": null,
      "outputs": [
        {
          "output_type": "stream",
          "name": "stdout",
          "text": [
            "Enter the string:this is test\n",
            "Enter sub string:i\n",
            "i occured 2 times\n"
          ]
        }
      ]
    },
    {
      "cell_type": "code",
      "source": [
        "#6. Write a code to perform basic string compression using the counts of repeated characters\n",
        "\n",
        "string=input(\"Enter string: \")\n",
        "var=string.strip()                    #remove space from starting and ending of string, if any.\n",
        "\n",
        "list_1=list(set(string))                      #converting string to set to find unique elements and then convertinhg it to list to use index values\n",
        "\n",
        "for i in range(0,len(list_1)):\n",
        "  if list_1[i]==\" \":                            #remove space counts\n",
        "    continue\n",
        "  else:\n",
        "    print(f\"{list_1[i]}{var.count(list_1[i])}\",end=\" \")\n"
      ],
      "metadata": {
        "colab": {
          "base_uri": "https://localhost:8080/"
        },
        "id": "lthueGdDbTsh",
        "outputId": "908f7f1c-fa93-4df5-94b2-0a3e0e9245c1"
      },
      "execution_count": null,
      "outputs": [
        {
          "output_type": "stream",
          "name": "stdout",
          "text": [
            "Enter string: testing code\n",
            "i1 s1 d1 t2 c1 n1 e2 g1 o1 "
          ]
        }
      ]
    },
    {
      "cell_type": "code",
      "source": [
        "#Q7. Write a code to determine if a string has all unique characters\n",
        "\n",
        "\n",
        "string=input(\"Enter string:\")\n",
        "string.strip()                     #to remove space from staring and ending of string\n",
        "\n",
        "spaces=string.count(\" \")           # counting spaces to remove them from string\n",
        "\n",
        "set_1=set(string)                  #converting string to set to remove duplicates\n",
        "\n",
        "if len(set_1)==len(string)-spaces+1 :\n",
        "  print(\"string has unique characters\")\n",
        "else: print(\"Repeating characters\")\n"
      ],
      "metadata": {
        "colab": {
          "base_uri": "https://localhost:8080/"
        },
        "id": "Q7f0joT1Isrw",
        "outputId": "601f8524-c1d4-4004-f6b5-48964a2466b1"
      },
      "execution_count": 7,
      "outputs": [
        {
          "output_type": "stream",
          "name": "stdout",
          "text": [
            "Enter string:qwe rty    uiop\n",
            "string has unique characters\n"
          ]
        }
      ]
    },
    {
      "cell_type": "code",
      "source": [
        "#Q8. Write a code to convert a given string to uppercase or lowercase\n",
        "\n",
        "string=input()\n",
        "\n",
        "print(\"Upper case:\",string.upper())\n",
        "print(\"Lower case:\",string.lower())\n"
      ],
      "metadata": {
        "colab": {
          "base_uri": "https://localhost:8080/"
        },
        "id": "ZbhrjbbbKOlu",
        "outputId": "cd1492ca-c04c-4f47-f9b1-c0cea18c57c9"
      },
      "execution_count": null,
      "outputs": [
        {
          "output_type": "stream",
          "name": "stdout",
          "text": [
            "Hello I AM just testing 6 @\n",
            "Upper case: HELLO I AM JUST TESTING 6 @\n",
            "Lower case: hello i am just testing 6 @\n"
          ]
        }
      ]
    },
    {
      "cell_type": "code",
      "source": [
        "#9.Write a code to count the number of words in a string\n",
        "\n",
        "\n",
        "string=input()\n",
        "var=string.strip()                      #remove all space at starting and ending of a string.\n",
        "\n",
        "spaces=var.count(\" \")                    #count number of spaces\n",
        "#total words = space + 1\n",
        "\n",
        "words=spaces+1\n",
        "\n",
        "if spaces==0:\n",
        "  print(\"string empty\")\n",
        "else: print(\"Total words:\",words)\n",
        "\n"
      ],
      "metadata": {
        "colab": {
          "base_uri": "https://localhost:8080/"
        },
        "id": "9AEkaPHALJNH",
        "outputId": "fdb7f826-e295-4cf8-e3ec-381483a33dcc"
      },
      "execution_count": null,
      "outputs": [
        {
          "output_type": "stream",
          "name": "stdout",
          "text": [
            " testing words\n",
            "Total words: 2\n"
          ]
        }
      ]
    },
    {
      "cell_type": "code",
      "source": [
        "#Q10.  Write a code to concatenate two strings without using the + operator\n",
        "\n",
        "string1=input(\"String A:\")\n",
        "string2=input(\"String B:\")\n",
        "x=\"\".join([string1,\" \",string2])\n",
        "print(x)"
      ],
      "metadata": {
        "colab": {
          "base_uri": "https://localhost:8080/"
        },
        "id": "CuJS_N2pMiO2",
        "outputId": "10ce4d34-350a-4682-966d-acd7d0778cc5"
      },
      "execution_count": null,
      "outputs": [
        {
          "output_type": "stream",
          "name": "stdout",
          "text": [
            "String A:asd 234\n",
            "String B:asdf 23\n",
            "asd 234 asdf 23\n"
          ]
        }
      ]
    },
    {
      "cell_type": "code",
      "source": [
        "#Q11.  Write a code to remove all occurrences of a specific element from a list\n",
        "\n",
        "n=int(input(\"Enter total elements in list:\"))\n",
        "lst=[]\n",
        "\n",
        "def list_values():\n",
        "  for i in range(0,n):\n",
        "    a=input(\"Enter element:\")\n",
        "    lst.append(a)\n",
        "\n",
        "list_values()\n",
        "x=input(\"Enter element to remove:\")\n",
        "\n",
        "lst.remove(x)\n",
        "print(lst)"
      ],
      "metadata": {
        "colab": {
          "base_uri": "https://localhost:8080/"
        },
        "id": "o8OlDqIhO5lV",
        "outputId": "7ca99e6e-f0fb-4da4-ec45-098fcf62d585"
      },
      "execution_count": null,
      "outputs": [
        {
          "output_type": "stream",
          "name": "stdout",
          "text": [
            "Enter total elements in list:4\n",
            "Enter element:25\n",
            "Enter element:sat\n",
            "Enter element:36\n",
            "Enter element:asd\n",
            "Enter element to remove:25\n",
            "['sat', '36', 'asd']\n"
          ]
        }
      ]
    },
    {
      "cell_type": "code",
      "source": [
        "#Q12.Implement a code to find the second largest number in a given list of integers\n",
        "\n",
        "n=int(input(\"Enter total elements in list:\"))\n",
        "lst=[]\n",
        "\n",
        "def list_values():\n",
        "  for i in range(0,n):\n",
        "    a=int(input(\"Enter element:\"))\n",
        "    lst.append(a)\n",
        "\n",
        "list_values()                           #to add user values in list\n",
        "print(\"List:\",lst)\n",
        "lst.sort()                                #sorts the values of the list\n",
        "print(\"Sorted List:\",lst)\n",
        "print(\"Second largest value:\",lst[-2])"
      ],
      "metadata": {
        "colab": {
          "base_uri": "https://localhost:8080/"
        },
        "id": "Rvbl3Vqke9P9",
        "outputId": "8b7dc905-b7af-4745-f3e1-b232115cfa22"
      },
      "execution_count": null,
      "outputs": [
        {
          "output_type": "stream",
          "name": "stdout",
          "text": [
            "Enter total elements in list:5\n",
            "Enter element:11\n",
            "Enter element:5\n",
            "Enter element:3\n",
            "Enter element:5\n",
            "Enter element:8\n",
            "List: [11, 5, 3, 5, 8]\n",
            "Sorted List: [3, 5, 5, 8, 11]\n",
            "Second largest value: 8\n"
          ]
        }
      ]
    },
    {
      "cell_type": "code",
      "source": [
        "#13. Create a code to count the occurrences of each element in a list and return a dictionary with elements as keys and their counts as values\n",
        "\n",
        "n=int(input(\"Enter total elements in list:\"))\n",
        "lst=[]\n",
        "element_list=[]\n",
        "count_list=[]\n",
        "dict1={}\n",
        "\n",
        "def list_values():\n",
        "  for i in range(0,n):\n",
        "    a=input(\"Enter element:\")\n",
        "    lst.append(a)\n",
        "\n",
        "list_values()                           #to add user values in list\n",
        "\n",
        "var=list(set(lst))                     # for unique elements\n",
        "\n",
        "for i in range(0,len(var)):\n",
        "  n=lst.count(var[i])\n",
        "  count_list.append(n)\n",
        "  element_list.append(var[i])\n",
        "\n",
        "for i in range(0,len(count_list)):\n",
        "  dict1.update({element_list[i] : count_list[i]})\n",
        "print(dict1)\n"
      ],
      "metadata": {
        "colab": {
          "base_uri": "https://localhost:8080/"
        },
        "id": "wBqnGHxibuvv",
        "outputId": "da81c60a-412f-44e0-ed2a-63b08121bbb3"
      },
      "execution_count": null,
      "outputs": [
        {
          "output_type": "stream",
          "name": "stdout",
          "text": [
            "Enter total elements in list:6\n",
            "Enter element:kiwi\n",
            "Enter element:kiwi\n",
            "Enter element:sonam\n",
            "Enter element:org\n",
            "Enter element:org\n",
            "Enter element:shradha\n",
            "{'kiwi': 2, 'org': 2, 'shradha': 1, 'sonam': 1}\n",
            "['kiwi', 'kiwi', 'sonam', 'org', 'org', 'shradha']\n",
            "[2, 2, 1, 1]\n"
          ]
        }
      ]
    },
    {
      "cell_type": "code",
      "source": [
        "#Q14.Write a code to reverse a list in-place without using any built-in reverse functions.\n",
        "\n",
        "n=int(input(\"Enter total elements in list:\"))\n",
        "lst=[]\n",
        "\n",
        "def list_values():\n",
        "  for i in range(0,n):\n",
        "    a=int(input(\"Enter element:\"))\n",
        "    lst.append(a)\n",
        "\n",
        "def reverse(lst_o):\n",
        "  lst2=[]\n",
        "  i=1\n",
        "  while i<=n:\n",
        "    lst2.append(lst_o[-i])\n",
        "    i+=1\n",
        "  return(lst2)\n",
        "\n",
        "list_values()                           #to add user values in list\n",
        "print(\"Org list:\",lst)\n",
        "print(\"Reverse:\",reverse(lst))                     #to reverse the list\n",
        "\n",
        "\n"
      ],
      "metadata": {
        "colab": {
          "base_uri": "https://localhost:8080/"
        },
        "id": "70g16OuOf0YN",
        "outputId": "820b87e0-a264-4ba1-f4c6-b7d581281725"
      },
      "execution_count": null,
      "outputs": [
        {
          "output_type": "stream",
          "name": "stdout",
          "text": [
            "Enter total elements in list:5\n",
            "Enter element:12\n",
            "Enter element:22\n",
            "Enter element:5\n",
            "Enter element:17\n",
            "Enter element:8\n",
            "Org list: [12, 22, 5, 17, 8]\n",
            "Reverse: [8, 17, 5, 22, 12]\n"
          ]
        }
      ]
    },
    {
      "cell_type": "code",
      "source": [
        "#Q15. Implement a code to find and remove duplicates from a list while preserving the original order of element\n",
        "\n",
        "n=int(input(\"Enter total elements in list:\"))\n",
        "lst=[]                         # to take user inputs\n",
        "\n",
        "def list_values():\n",
        "  for i in range(0,n):\n",
        "    a=input(\"Enter element:\")\n",
        "    lst.append(a)\n",
        "\n",
        "list_values()                       #to add user values in list\n",
        "\n",
        "print(\"old_List:\",lst)\n",
        "print(\"New_list:\",list(dict.fromkeys(lst)))        #dict.fromkeys() preserves order of the original list while maintaining org order"
      ],
      "metadata": {
        "colab": {
          "base_uri": "https://localhost:8080/"
        },
        "id": "QwlSyoJ5h2fb",
        "outputId": "b73484e3-2f13-4ad8-8341-d063bcc5d928"
      },
      "execution_count": null,
      "outputs": [
        {
          "output_type": "stream",
          "name": "stdout",
          "text": [
            "Enter total elements in list:6\n",
            "Enter element:12\n",
            "Enter element:34\n",
            "Enter element:12\n",
            "Enter element:4\n",
            "Enter element:55\n",
            "Enter element:4\n",
            "old_List: ['12', '34', '12', '4', '55', '4']\n",
            "New_list: ['12', '34', '4', '55']\n"
          ]
        }
      ]
    },
    {
      "cell_type": "code",
      "source": [
        "#Q16. Create a code to check if a given list is sorted (either in ascending or descending order) or not\n",
        "\n",
        "n=int(input(\"Enter total elements in list:\"))\n",
        "lst1=[]\n",
        "\n",
        "def list_values():\n",
        "  for i in range(0,n):\n",
        "    a=input(\"Enter element:\")\n",
        "    lst1.append(a)\n",
        "\n",
        "\n",
        "list_values()                       #to add user values in list\n",
        "lst2=lst1[:]                        #copy lst1 to lst2\n",
        "lst2.sort()                         #sort list\n",
        "lst3=lst2[::-1]                   #in desending order\n",
        "\n",
        "print(\"lst1:\",lst1)\n",
        "print(\"lst2:\",lst2)\n",
        "print(\"lst3:\",lst3)\n",
        "\n",
        "if lst1==lst2 or lst1==lst3:\n",
        "  print(\"List is sorted\")\n",
        "else:\n",
        "  print(\"list is not sorted\")"
      ],
      "metadata": {
        "colab": {
          "base_uri": "https://localhost:8080/"
        },
        "id": "jPjbmgegtdwO",
        "outputId": "72166808-fece-4060-f88d-ccc1ceec50c3"
      },
      "execution_count": null,
      "outputs": [
        {
          "output_type": "stream",
          "name": "stdout",
          "text": [
            "Enter total elements in list:3\n",
            "Enter element:1\n",
            "Enter element:0\n",
            "Enter element:-5\n",
            "lst1: ['1', '0', '-5']\n",
            "lst2: ['-5', '0', '1']\n",
            "List is sorted\n"
          ]
        }
      ]
    },
    {
      "cell_type": "code",
      "source": [
        "#Q17.  Write a code to merge two sorted lists into a single sorted list\n",
        "\n",
        "lst1=[13,5,8]\n",
        "lst2=[7,25,13]\n",
        "\n",
        "lst1.sort()\n",
        "lst2.sort()\n",
        "\n",
        "var=lst1+lst2\n",
        "var.sort()\n",
        "print(\"sorted list 1:\",lst1)\n",
        "print(\"sorted list 2:\",lst2)\n",
        "print(\"sorted merged list:\",var)"
      ],
      "metadata": {
        "colab": {
          "base_uri": "https://localhost:8080/"
        },
        "id": "wRygJeGpDItR",
        "outputId": "06f3b83e-a952-435c-9541-512e90c65cbd"
      },
      "execution_count": null,
      "outputs": [
        {
          "output_type": "stream",
          "name": "stdout",
          "text": [
            "sorted list 1: [5, 8, 13]\n",
            "sorted list 2: [7, 13, 25]\n",
            "sorted merged list: [5, 7, 8, 13, 13, 25]\n"
          ]
        }
      ]
    },
    {
      "cell_type": "code",
      "source": [
        "#Q18.  Implement a code to find the intersection of two given lists\n",
        "\n",
        "\n",
        "lst1=[]\n",
        "lst2=[]\n",
        "\n",
        "def list_values(lst):\n",
        "  n=int(input(\"Enter total elements in list:\"))\n",
        "  for i in range(0,n):\n",
        "    a=input(\"Enter element:\")\n",
        "    lst.append(a)\n",
        "  return(lst)\n",
        "\n",
        "list_values(lst1)                       #takes user values in list\n",
        "list_values(lst2)\n",
        "\n",
        "set1=set(lst1)            #convert the lsits to set to remove repeting elements\n",
        "set2=set(lst2)\n",
        "\n",
        "print(\"Set1:\",set1)\n",
        "print(\"Set2:\",set2)\n",
        "com=set1 & set2           # using And method to find common,we can also use intersection() function\n",
        "\n",
        "print(\"Common elements:\",com)\n"
      ],
      "metadata": {
        "colab": {
          "base_uri": "https://localhost:8080/"
        },
        "id": "XORhJ0rPqfBW",
        "outputId": "6bfa429d-da6d-430b-a402-800475b6a8f5"
      },
      "execution_count": null,
      "outputs": [
        {
          "output_type": "stream",
          "name": "stdout",
          "text": [
            "Enter total elements in list:3\n",
            "Enter element:11\n",
            "Enter element:5\n",
            "Enter element:7\n",
            "Enter total elements in list:3\n",
            "Enter element:15\n",
            "Enter element:8\n",
            "Enter element:6\n",
            "Set1: {'11', '5', '7'}\n",
            "Set2: {'8', '15', '6'}\n",
            "Common elements: set()\n"
          ]
        }
      ]
    },
    {
      "cell_type": "code",
      "source": [
        "#Q19. Create a code to find the union of two lists without duplicates\n",
        "\n",
        "\n",
        "lst1=[]\n",
        "lst2=[]\n",
        "\n",
        "def list_values(lst):\n",
        "  n=int(input(\"Enter total elements in list:\"))\n",
        "  for i in range(0,n):\n",
        "    a=input(\"Enter element:\")\n",
        "    lst.append(a)\n",
        "  return(lst)\n",
        "\n",
        "list_values(lst1)                       #takes user values in list\n",
        "list_values(lst2)\n",
        "\n",
        "union=set(lst1)| (set(lst2))\n",
        "\n",
        "print(\"list 1:\",lst1)\n",
        "print(\"list 2:\",lst2)\n",
        "print(\"list1 U list 2:\",union)"
      ],
      "metadata": {
        "colab": {
          "base_uri": "https://localhost:8080/"
        },
        "id": "2LqCj0oWtnHA",
        "outputId": "1323ac30-09f2-43db-c3f6-17cd4fe35ceb"
      },
      "execution_count": null,
      "outputs": [
        {
          "output_type": "stream",
          "name": "stdout",
          "text": [
            "Enter total elements in list:3\n",
            "Enter element:11\n",
            "Enter element:5\n",
            "Enter element:55\n",
            "Enter total elements in list:2\n",
            "Enter element:45\n",
            "Enter element:5\n",
            "list 1: ['11', '5', '55']\n",
            "list 2: ['45', '5']\n",
            "list1 U list 2: {'11', '55', '45', '5'}\n"
          ]
        }
      ]
    },
    {
      "cell_type": "code",
      "source": [
        "#Q20. Write a code to shuffle a given list randomly without using any built-in shuffle functions\n",
        "\n",
        "n=int(input(\"Enter total elements in list:\"))\n",
        "lst=[]\n",
        "\n",
        "def list_values():\n",
        "  for i in range(0,n):\n",
        "    a=int(input(\"Enter element:\"))\n",
        "    lst.append(a)\n",
        "\n",
        "list_values()\n",
        "print(\"List:\",lst)\n",
        "\n",
        "set1=set(lst)         #convert list to set\n",
        "\n",
        "print(\"Sets are unordered,thus stores values randomly:\",set1)"
      ],
      "metadata": {
        "colab": {
          "base_uri": "https://localhost:8080/"
        },
        "id": "tTNzP_2gJJC-",
        "outputId": "e0dd31be-2fc1-4229-c842-a100d34d2c9e"
      },
      "execution_count": null,
      "outputs": [
        {
          "output_type": "stream",
          "name": "stdout",
          "text": [
            "Enter total elements in list:3\n",
            "Enter element:15\n",
            "Enter element:12\n",
            "Enter element:66\n",
            "List: [15, 12, 66]\n",
            "Sets are unordered,thus stores values randomly: {66, 12, 15}\n"
          ]
        }
      ]
    },
    {
      "cell_type": "code",
      "source": [
        "#Q21. Write a code that takes two tuples as input and returns a new tuple containing elements that are common to both input tuples\n",
        "\n",
        "tup1=(5,9,7,2,6,8,11)\n",
        "tup2=(6,8,9,7,12,77)\n",
        "\n",
        "set1=set(tup1)\n",
        "set2=set(tup2)\n",
        "\n",
        "set3=set1 & set2\n",
        "\n",
        "tup3=tuple(set3)\n",
        "\n",
        "print(\"Common elements in tup1 and tup2:\",tup3)\n",
        "print(type(tup3))\n",
        "\n"
      ],
      "metadata": {
        "colab": {
          "base_uri": "https://localhost:8080/"
        },
        "id": "WjoiMEEuKUId",
        "outputId": "0281163f-8243-4d9b-9890-f0f4b0648a00"
      },
      "execution_count": null,
      "outputs": [
        {
          "output_type": "stream",
          "name": "stdout",
          "text": [
            "Common elements in tup1 and tup2: (8, 9, 6, 7)\n",
            "<class 'tuple'>\n"
          ]
        }
      ]
    },
    {
      "cell_type": "code",
      "source": [
        "#Q22. Create a code that prompts the user to enter two sets of integers separated by commas. Then, print the intersection of these two sets\n",
        "\n",
        "set1=set()\n",
        "set2=set()\n",
        "\n",
        "def set_values(lst):\n",
        "  n=int(input(\"Enter total elements in set:\"))\n",
        "  for i in range(0,n):\n",
        "    a=int(input(\"Enter element:\"))\n",
        "    lst.add(a)\n",
        "  return(lst)\n",
        "\n",
        "set_values(set1)                       #takes user values in set\n",
        "set_values(set2)\n",
        "\n",
        "print(\"Set1 intersection Set2 :\",set1 & set2)\n",
        "\n"
      ],
      "metadata": {
        "colab": {
          "base_uri": "https://localhost:8080/"
        },
        "id": "wUbVEpIqfWHU",
        "outputId": "b29ba26b-e074-4c1e-9f16-749d3c5d1ace"
      },
      "execution_count": null,
      "outputs": [
        {
          "output_type": "stream",
          "name": "stdout",
          "text": [
            "Enter total elements in list:3\n",
            "Enter element:12\n",
            "Enter element:15\n",
            "Enter element:11\n",
            "Enter total elements in list:3\n",
            "Enter element:11\n",
            "Enter element:5\n",
            "Enter element:66\n",
            "Set1 intersection Set2 : {11}\n"
          ]
        }
      ]
    },
    {
      "cell_type": "code",
      "source": [
        "#Q23  Write a code to concatenate two tuples. The function should take two tuples as input and return a new tuple containing elements from both input tuples.\n",
        "\n",
        "tuple1=(1,4,6)\n",
        "tuple2=(\"Hello\",\"Hot\",\"Cold\")\n",
        "\n",
        "tuple3=(tuple1,tuple2)\n",
        "print(\"New tuple:\",tuple3)\n",
        "print(type(tuple3))\n",
        "\n",
        "\n",
        "\n",
        "\n"
      ],
      "metadata": {
        "colab": {
          "base_uri": "https://localhost:8080/"
        },
        "id": "lrB_KbY3P9wg",
        "outputId": "e7e606ce-0498-4c4e-9ae9-44e2b10dd640"
      },
      "execution_count": null,
      "outputs": [
        {
          "output_type": "stream",
          "name": "stdout",
          "text": [
            "New tuple: ((1, 4, 6), ('Hello', 'Hot', 'Cold'))\n",
            "<class 'tuple'>\n"
          ]
        }
      ]
    },
    {
      "cell_type": "code",
      "source": [
        "#Q24  Develop a code that prompts the user to input two sets of strings. Then, print the elements that are present in the first set but not in the second set\n",
        "\n",
        "set1=set()\n",
        "set2=set()\n",
        "\n",
        "def set_values(lst):\n",
        "  n=int(input(\"Enter total elements in set:\"))\n",
        "  for i in range(0,n):\n",
        "    a=input(\"Enter element:\")\n",
        "    lst.add(a)\n",
        "  return(lst)\n",
        "\n",
        "set_values(set1)                       #takes user values in set\n",
        "set_values(set2)\n",
        "\n",
        "print(\"Set1 - Set2\", set1-set2)"
      ],
      "metadata": {
        "colab": {
          "base_uri": "https://localhost:8080/"
        },
        "id": "hwRr2im2RFEc",
        "outputId": "c0cbcbf9-a37d-44b0-93db-bf8c3d5c8c42"
      },
      "execution_count": null,
      "outputs": [
        {
          "output_type": "stream",
          "name": "stdout",
          "text": [
            "Enter total elements in list:3\n",
            "Enter element:this\n",
            "Enter element:is\n",
            "Enter element:set_!\n",
            "Enter total elements in list:3\n",
            "Enter element:this\n",
            "Enter element:is\n",
            "Enter element:set_2\n",
            "Set1 - Set2 {'set_!'}\n"
          ]
        }
      ]
    },
    {
      "cell_type": "code",
      "source": [
        "#Q25 Create a code that takes a tuple and two integers as input. The function should return a new tuple containing elements from the original tuple within the specified range of indices\n",
        "\n",
        "tuple1=(23,43,17,51,12,27,31)\n",
        "list1=[]\n",
        "a=int(input(\"Enter index value to start slicing:\"))\n",
        "b=int(input(\"Enter index value to stop slicing:\"))\n",
        "\n",
        "def  sliceing(x,y):\n",
        "  for i in range(x,y):\n",
        "    list1.append(tuple1[i])\n",
        "  var=tuple(list1)\n",
        "  return var\n",
        "\n",
        "z=sliceing(a,b)\n",
        "print(z)\n",
        "print(type(z))\n",
        "\n"
      ],
      "metadata": {
        "colab": {
          "base_uri": "https://localhost:8080/"
        },
        "id": "_uNIYi2UTdUv",
        "outputId": "954ce086-5375-43dd-9845-79caf8c6485b"
      },
      "execution_count": null,
      "outputs": [
        {
          "output_type": "stream",
          "name": "stdout",
          "text": [
            "Enter index value to start slicing:2\n",
            "Enter index value to stop slicing:5\n",
            "(17, 51, 12)\n",
            "<class 'tuple'>\n"
          ]
        }
      ]
    },
    {
      "cell_type": "code",
      "source": [
        "#Q26 Write a code that prompts the user to input two sets of characters. Then, print the union of these two sets\n",
        "\n",
        "a=int(input(\"Total elements in A:\"))\n",
        "print(\"Enter character elements of A:\")\n",
        "set1=set(input() for _ in range(0,a))            #taking input from user\n",
        "\n",
        "b=int(input(\"Total elements in B:\"))\n",
        "print(\"Enter character elements of B:\")\n",
        "set2=set(input() for _ in range(0,b))             #taking input from user\n",
        "\n",
        "print(\"SetA:\",set1)\n",
        "print(\"SetB:\",set2)\n",
        "print(\"SetA U SetB:\",set1|set2)"
      ],
      "metadata": {
        "colab": {
          "base_uri": "https://localhost:8080/"
        },
        "id": "8NeOjN_1ZpDZ",
        "outputId": "62b3ce96-b7b4-41a1-a079-612cef8487a0"
      },
      "execution_count": null,
      "outputs": [
        {
          "output_type": "stream",
          "name": "stdout",
          "text": [
            "Total elements in A:3\n",
            "Enter character elements of A:\n",
            "a\n",
            "s\n",
            "d\n",
            "Total elements in B:3\n",
            "Enter character elements of B:\n",
            "e\n",
            "f\n",
            "g\n",
            "SetA: {'s', 'a', 'd'}\n",
            "SetB: {'f', 'g', 'e'}\n",
            "SetA U SetB: {'f', 'a', 'd', 'e', 's', 'g'}\n"
          ]
        }
      ]
    },
    {
      "cell_type": "code",
      "source": [
        "#Q27 Develop a code that takes a tuple of integers as input. The function should return the maximum and minimum values from the tuple using tuple unpacking\n",
        "\n",
        "var=[]                                           #we will type cast this list to tuple later\n",
        "\n",
        "def fxn_values(lst):\n",
        "  n=int(input(\"Enter total elements in list:\"))\n",
        "  for i in range(0,n):\n",
        "    a=input(\"Enter element:\")\n",
        "    lst.append(a)\n",
        "  return(lst)\n",
        "\n",
        "fxn_values(var)                                    #takes user values in list\n",
        "\n",
        "tup1=tuple(var)                                   #list type casted to tuple\n",
        "\n",
        "print(\"Tuple:\",tup1)\n",
        "#unwraping the tuple: first two values will be assigned to x and y rest values are converted in form of list of remaining elements\n",
        "x,y,*z=var\n",
        "\n",
        "z.append(x)\n",
        "z.append(y)\n",
        "for i in range(0,len(z)):\n",
        "  z[i]=int(z[i])\n",
        "\n",
        "z.sort()\n",
        "\n",
        "print(\"Min_Value:\",z[0])\n",
        "print(\"Max_value:\",z[-1])\n",
        "\n",
        "\n",
        "\n",
        "\n"
      ],
      "metadata": {
        "colab": {
          "base_uri": "https://localhost:8080/"
        },
        "id": "nIBX-r13c8MG",
        "outputId": "c7ae2f8a-9a19-4ed1-8839-a603a8dd1a25"
      },
      "execution_count": null,
      "outputs": [
        {
          "output_type": "stream",
          "name": "stdout",
          "text": [
            "Enter total elements in list:6\n",
            "Enter element:12\n",
            "Enter element:15\n",
            "Enter element:11\n",
            "Enter element:5\n",
            "Enter element:8\n",
            "Enter element:35\n",
            "Tuple: ('12', '15', '11', '5', '8', '35')\n",
            "Max_value: 35\n",
            "Min_Value: 5\n"
          ]
        }
      ]
    },
    {
      "cell_type": "code",
      "source": [
        "#Q28  Create a code that defines two sets of integers. Then, print the union, intersection, and difference of these two sets.\n",
        "\n",
        "set1=set()\n",
        "set2=set()\n",
        "\n",
        "def set_values(var):\n",
        "  n=int(input(\"Enter total elements in set:\"))\n",
        "  for i in range(0,n):\n",
        "    a=int(input(\"Enter element:\"))\n",
        "    var.add(a)\n",
        "  return(var)\n",
        "\n",
        "set_values(set1)                       #takes user values in set\n",
        "set_values(set2)\n",
        "\n",
        "print(\"Set_A:\",set1)\n",
        "print(\"Set_B:\",set2)\n",
        "print(\"Set_A U Set_B:\",set1 | set2)\n",
        "print(\"Set_A intersection Set_B:\",set1&set2)\n",
        "print(\"Set_A - Set_B:\",set1-set2)\n",
        "print(\"Set_B - Set_A:\",set2-set1)\n",
        "\n",
        "\n",
        "\n"
      ],
      "metadata": {
        "colab": {
          "base_uri": "https://localhost:8080/"
        },
        "id": "OdTavkcRpcLi",
        "outputId": "8f81eb0f-dddc-457b-90f6-166321497492"
      },
      "execution_count": null,
      "outputs": [
        {
          "output_type": "stream",
          "name": "stdout",
          "text": [
            "Enter total elements in set:3\n",
            "Enter element:5\n",
            "Enter element:7\n",
            "Enter element:6\n",
            "Enter total elements in set:2\n",
            "Enter element:11\n",
            "Enter element:5\n",
            "Set_A: {5, 6, 7}\n",
            "Set_B: {11, 5}\n",
            "Set_A U Set_B: {5, 6, 7, 11}\n",
            "Set_A intersection Set_B: {5}\n",
            "Set_A - Set_B: {6, 7}\n",
            "Set_B - Set_A: {11}\n"
          ]
        }
      ]
    },
    {
      "cell_type": "code",
      "source": [
        "#Q29  Write a code that takes a tuple and an element as input. The function should return the count of occurrences of the given element in the tuple.\n",
        "\n",
        "var=[]                                           #we will type cast this list to tuple later\n",
        "\n",
        "def fxn_values(lst):\n",
        "  n=int(input(\"Enter total elements in list:\"))\n",
        "  for i in range(0,n):\n",
        "    a=int(input(\"Enter element:\"))\n",
        "    lst.append(a)\n",
        "  return(lst)\n",
        "\n",
        "def occurrence(tuple_temp,search_val):\n",
        "  return(tuple_temp.count(search_val))\n",
        "\n",
        "\n",
        "fxn_values(var)                                    #takes user values in list\n",
        "\n",
        "x=int(input(\"Enter element to search:\"))\n",
        "\n",
        "tup1=tuple(var)                                   #list type casted to tuple\n",
        "print(\"Tuple:\",tup1)\n",
        "\n",
        "occur=occurrence(tup1,x)\n",
        "print(f\"{x} occured {occur} in tuple\")\n",
        "\n"
      ],
      "metadata": {
        "colab": {
          "base_uri": "https://localhost:8080/"
        },
        "id": "VJbup-N8q6D5",
        "outputId": "32ffdc75-e237-413b-b160-e3e3e8dfdae9"
      },
      "execution_count": null,
      "outputs": [
        {
          "output_type": "stream",
          "name": "stdout",
          "text": [
            "Enter total elements in list:5\n",
            "Enter element:5\n",
            "Enter element:6\n",
            "Enter element:8\n",
            "Enter element:8\n",
            "Enter element:6\n",
            "Enter element to search8\n",
            "Tuple: (5, 6, 8, 8, 6)\n",
            "8 occured 2 in tuple\n"
          ]
        }
      ]
    },
    {
      "cell_type": "code",
      "source": [
        "#Q30  Develop a code that prompts the user to input two sets of strings. Then, print the symmetric difference of these two set\n",
        "\n",
        "set1=set()\n",
        "set2=set()\n",
        "\n",
        "def set_values(lst):\n",
        "  n=int(input(\"Enter total elements in set:\"))\n",
        "  for i in range(0,n):\n",
        "    a=input(\"Enter element:\")\n",
        "    lst.add(a)\n",
        "  return(lst)\n",
        "\n",
        "set_values(set1)                       #takes user values in set\n",
        "set_values(set2)\n",
        "print(\"Set_A:\",set1)\n",
        "print(\"Set_B:\",set2)\n",
        "print(\"symmetric difference of Set1,Set2:\", set1^set2)\n"
      ],
      "metadata": {
        "colab": {
          "base_uri": "https://localhost:8080/"
        },
        "id": "ZOq7MetpvUdy",
        "outputId": "bbda61e8-11db-44f8-a159-008682977983"
      },
      "execution_count": null,
      "outputs": [
        {
          "output_type": "stream",
          "name": "stdout",
          "text": [
            "Enter total elements in set:5\n",
            "Enter element:11\n",
            "Enter element:5\n",
            "Enter element:9\n",
            "Enter element:4\n",
            "Enter element:5\n",
            "Enter total elements in set:2\n",
            "Enter element:11\n",
            "Enter element:646\n",
            "Set_A: {'11', '9', '4', '5'}\n",
            "Set_B: {'11', '646'}\n",
            "symmetric difference of Set1,Set2: {'9', '646', '4', '5'}\n"
          ]
        }
      ]
    },
    {
      "cell_type": "code",
      "source": [
        "#Q31 Write a code that takes a list of words as input and returns a dictionary where the keys are unique words and the values are the frequencies of those words in the input list\n",
        "\n",
        "dict1={}\n",
        "var=[]\n",
        "\n",
        "def list_values(lst):                                                                 #function to take user inputs\n",
        "  n=int(input(\"Enter total elements in list:\"))\n",
        "  for i in range(0,n):\n",
        "    a=input(\"Enter element:\")\n",
        "    lst.append(a)\n",
        "  return(lst)\n",
        "\n",
        "list_values(var)\n",
        "\n",
        "for i in range(0,len(var)):\n",
        "  dict1.update({var[i] : var.count(var[i])})\n",
        "print(dict1)\n",
        "\n"
      ],
      "metadata": {
        "colab": {
          "base_uri": "https://localhost:8080/"
        },
        "id": "To7TrN9GwPNs",
        "outputId": "8bddb431-615e-4c55-856d-729ab25cf6c9"
      },
      "execution_count": null,
      "outputs": [
        {
          "output_type": "stream",
          "name": "stdout",
          "text": [
            "Enter total elements in list:6\n",
            "Enter element:kiwi\n",
            "Enter element:org\n",
            "Enter element:kiwi\n",
            "Enter element:sugar\n",
            "Enter element:cane\n",
            "Enter element:wood\n",
            "{'kiwi': 2, 'org': 1, 'sugar': 1, 'cane': 1, 'wood': 1}\n"
          ]
        }
      ]
    },
    {
      "cell_type": "code",
      "source": [
        "#Q32 Write a code that takes two dictionaries as input and merges them into a single dictionary. If there are common keys, the values should be added together\n",
        "\n",
        "dict1={}\n",
        "dict2={}\n",
        "merg_dict={}\n",
        "\n",
        "def dict_values(lst):\n",
        "  n=int(input(\"Enter total elements in list:\"))\n",
        "  for i in range(0,n):\n",
        "    a=input(\"Enter key:\")\n",
        "    b=int(input(\"Enter int value:\"))\n",
        "    lst[a]=b\n",
        "  return(lst)\n",
        "\n",
        "dict_values(dict1)                       #takes user values in dict\n",
        "dict_values(dict2)\n",
        "\n",
        "print(\"Dict1:\",dict1)\n",
        "print(\"Dict2:\",dict2)\n",
        "\n",
        "for key in dict1:\n",
        "  if key in dict2:\n",
        "    dict2[key]=dict1[key]+dict2[key]\n",
        "  else:\n",
        "    dict2[key]=dict1[key]\n",
        "\n",
        "\n",
        "print(\"Merged_Dict:\",dict2)\n",
        "\n",
        "\n",
        "\n",
        "\n"
      ],
      "metadata": {
        "colab": {
          "base_uri": "https://localhost:8080/"
        },
        "id": "Q0uc6YKl4YnK",
        "outputId": "e3b37bbf-f8f8-4496-b5c7-0287817a4b79"
      },
      "execution_count": null,
      "outputs": [
        {
          "output_type": "stream",
          "name": "stdout",
          "text": [
            "Enter total elements in list:2\n",
            "Enter key:kiwi\n",
            "Enter int value:100\n",
            "Enter key:bamama\n",
            "Enter int value:5\n",
            "Enter total elements in list:2\n",
            "Enter key:kiwi\n",
            "Enter int value:60\n",
            "Enter key:apple\n",
            "Enter int value:250\n",
            "Dict1: {'kiwi': 100, 'bamama': 5}\n",
            "Dict2: {'kiwi': 60, 'apple': 250}\n",
            "Dict2: {'kiwi': 160, 'apple': 250, 'bamama': 5}\n"
          ]
        }
      ]
    },
    {
      "cell_type": "code",
      "source": [
        "#Q33  Write a code to access a value in a nested dictionary. The function should take the dictionary and a list of\n",
        "#     keys as input, and return the corresponding value. If any of the keys do not exist in the dictionary, the function should return None.\n",
        "\n",
        "dict1={\"student1\":{\"Phy\":89,\"Math\":95,\"Chem\":92},\n",
        "       \"student2\":{\"Phy\":74,\"Math\":84,\"Chem\":78},\n",
        "       \"student3\":{\"Phy\":62,\"Math\":55,\"Chem\":90},\n",
        "       \"student4\":{\"Phy\":81,\"Math\":82,\"Chem\":80}}\n",
        "\n",
        "list1=[\"Phy\",\"Math\",\"Sub\"]             #for sub it should return none\n",
        "\n",
        "def key_return(var,lst):\n",
        "  temp=[]\n",
        "  for i in var:\n",
        "    for j in var[i]:\n",
        "      if j in lst:\n",
        "        temp.append(var[i][j])\n",
        "      else:\n",
        "        temp.append(\"None\")\n",
        "  return(temp)\n",
        "print(key_return(dict1,list1))\n"
      ],
      "metadata": {
        "id": "ALiJBMFj_NFq",
        "colab": {
          "base_uri": "https://localhost:8080/"
        },
        "outputId": "33a25f22-bff8-4ee3-b0c6-ccb37a970c13"
      },
      "execution_count": 14,
      "outputs": [
        {
          "output_type": "stream",
          "name": "stdout",
          "text": [
            "[89, 95, 'None', 74, 84, 'None', 62, 55, 'None', 81, 82, 'None']\n"
          ]
        }
      ]
    },
    {
      "cell_type": "code",
      "source": [
        "#Q34 Write a code that takes a dictionary as input and returns a sorted version of it based on the values. You can choose whether to sort in ascending or descending order\n",
        "\n",
        "from collections import OrderedDict\n",
        "import numpy as np\n",
        "\n",
        "\n",
        "dict1={}\n",
        "\n",
        "def dict_values(lst):\n",
        "  n=int(input(\"Enter total elements in list:\"))\n",
        "  for i in range(0,n):\n",
        "    a=input(\"Enter key:\")\n",
        "    b=input(\"Enter int value:\")\n",
        "    lst[a]=b\n",
        "  return(lst)\n",
        "\n",
        "dict_values(dict1)                       #takes user values in dict\n",
        "\n",
        "keys = list(dict1.keys())\n",
        "dict_val=list(dict1.values())\n",
        "sorted_value_index = np.argsort(dict_val)\n",
        "sorted_dict = {keys[i]: dict_val[i] for i in sorted_value_index}\n",
        "\n",
        "print(\"Dict sorted based on values:\",sorted_dict)\n",
        "\n"
      ],
      "metadata": {
        "colab": {
          "base_uri": "https://localhost:8080/"
        },
        "id": "ec_7ETv6ED9x",
        "outputId": "2450e164-87c2-491f-812f-b5953cadff5f"
      },
      "execution_count": null,
      "outputs": [
        {
          "output_type": "stream",
          "name": "stdout",
          "text": [
            "Enter total elements in list:3\n",
            "Enter key:kiwi\n",
            "Enter int value:200\n",
            "Enter key:apple\n",
            "Enter int value:140\n",
            "Enter key:banana\n",
            "Enter int value:50\n",
            "Dict sorted based on values: {'apple': '140', 'kiwi': '200', 'banana': '50'}\n"
          ]
        }
      ]
    },
    {
      "cell_type": "code",
      "source": [
        "#Q35 Write a code that inverts a dictionary, swapping keys and values. Ensure that the inverted dictionary\n",
        "#     correctly handles cases where multiple keys have the same value by storing the keys as a list in the\n",
        "#     inverted dictionary\n",
        "\n",
        "\n",
        "dict1 = {}\n",
        "\n",
        "def dict_values(lst):\n",
        "  n=int(input(\"Enter total elements in list:\"))\n",
        "  for i in range(0,n):\n",
        "    a=input(\"Enter key:\")\n",
        "    b=int(input(\"Enter int value:\"))\n",
        "    lst[a]=b\n",
        "  return(lst)\n",
        "\n",
        "dict_values(dict1)\n",
        "\n",
        "print (\"Original dictionary is : \")\n",
        "print(dict1)\n",
        "\n",
        "dict2 = {}\n",
        "\n",
        "for key, value in dict1.items():\n",
        "  if value in dict2:\n",
        "    dict2[value].append(key)\n",
        "  else:\n",
        "    dict2[value]=[key]\n",
        "\n",
        "print (\"Dictionary after swapping is : \")\n",
        "print(\"keys: values\")\n",
        "for i in dict2:\n",
        "\tprint(i, \" :\",dict2[i])\n"
      ],
      "metadata": {
        "colab": {
          "base_uri": "https://localhost:8080/"
        },
        "id": "yGa3Tx1UJU8W",
        "outputId": "0eaad8fb-e887-41d4-970b-26bcc3fdf38f"
      },
      "execution_count": null,
      "outputs": [
        {
          "output_type": "stream",
          "name": "stdout",
          "text": [
            "Enter total elements in list:3\n",
            "Enter key:apple\n",
            "Enter int value:50\n",
            "Enter key:banana\n",
            "Enter int value:80\n",
            "Enter key:kiwi\n",
            "Enter int value:20\n",
            "Original dictionary is : \n",
            "{'apple': 50, 'banana': 80, 'kiwi': 20}\n",
            "Dictionary after swapping is : \n",
            "keys: values\n",
            "50  : ['apple']\n",
            "80  : ['banana']\n",
            "20  : ['kiwi']\n"
          ]
        }
      ]
    }
  ]
}